{
 "cells": [
  {
   "cell_type": "code",
   "execution_count": 1,
   "metadata": {
    "is_executing": true
   },
   "outputs": [],
   "source": [
    "import torchvision\n",
    "import torchvision.datasets as torchds"
   ]
  },
  {
   "cell_type": "code",
   "execution_count": 2,
   "metadata": {},
   "outputs": [],
   "source": [
    "mnist_dataset = torchds.MNIST(root='', train=True, download=True, transform=None)"
   ]
  },
  {
   "cell_type": "code",
   "execution_count": 3,
   "metadata": {},
   "outputs": [],
   "source": [
    "batch_imgs, labels = next(iter(mnist_dataset))"
   ]
  },
  {
   "cell_type": "code",
   "execution_count": 4,
   "metadata": {},
   "outputs": [
    {
     "data": {
      "text/plain": [
       "['0 - zero',\n",
       " '1 - one',\n",
       " '2 - two',\n",
       " '3 - three',\n",
       " '4 - four',\n",
       " '5 - five',\n",
       " '6 - six',\n",
       " '7 - seven',\n",
       " '8 - eight',\n",
       " '9 - nine']"
      ]
     },
     "execution_count": 4,
     "metadata": {},
     "output_type": "execute_result"
    }
   ],
   "source": [
    "mnist_dataset.classes"
   ]
  },
  {
   "cell_type": "code",
   "execution_count": 3,
   "metadata": {
    "is_executing": true
   },
   "outputs": [],
   "source": [
    "import os"
   ]
  },
  {
   "cell_type": "code",
   "execution_count": 15,
   "metadata": {
    "collapsed": false,
    "jupyter": {
     "outputs_hidden": false
    }
   },
   "outputs": [
    {
     "name": "stdout",
     "output_type": "stream",
     "text": [
      "['untitled folder/untitled folder/untitled folder/untitled folder/untitled folder/untitled folder/untitled.txt', 'untitled folder/untitled folder/untitled folder/untitled folder', 'untitled folder/untitled folder/untitled folder', 'untitled folder/untitled folder/untitled folder/untitled folder/untitled folder/untitled folder', 'untitled folder/untitled folder', 'untitled folder/untitled folder/untitled folder/untitled folder/untitled folder']\n"
     ]
    }
   ],
   "source": [
    "def fast_scandir(dirname):\n",
    "    subfolders= [f.path for f in os.scandir(dirname) if f.is_dir()]\n",
    "    for dirname in list(subfolders):\n",
    "        subfolders.extend(fast_scandir(dirname))\n",
    "    return subfolders\n",
    "\n",
    "all_sub = fast_scandir('untitled folder')\n",
    "sub_with_file = []\n",
    "for sub in all_sub:\n",
    "    sub_with_file.append(sub)\n",
    "    sub_with_file.extend(glob(sub + '/*'))\n",
    "\n",
    "print(list(set(sub_with_file)))"
   ]
  },
  {
   "cell_type": "code",
   "execution_count": 13,
   "metadata": {},
   "outputs": [
    {
     "data": {
      "text/plain": [
       "['MNIST/raw']"
      ]
     },
     "execution_count": 13,
     "metadata": {},
     "output_type": "execute_result"
    }
   ],
   "source": [
    "glob('MNIST/*')"
   ]
  },
  {
   "cell_type": "code",
   "execution_count": 16,
   "metadata": {},
   "outputs": [],
   "source": [
    "import os\n",
    "import glob\n",
    "import pandas as pd\n",
    "\n",
    "def fast_scandir(dirname, level=0):\n",
    "    subfolders = [f.path for f in os.scandir(dirname) if f.is_dir()]\n",
    "    data = []\n",
    "\n",
    "    for dirname in subfolders:\n",
    "        sub_data = [None] * level\n",
    "        sub_data.append(os.path.basename(dirname))\n",
    "        \n",
    "        files = glob.glob(os.path.join(dirname, '*'))\n",
    "        file_types = []\n",
    "        extensions = []\n",
    "        \n",
    "        for file in files:\n",
    "            if os.path.isfile(file):\n",
    "                file_name = os.path.basename(file)\n",
    "                file_types.append(file_name)\n",
    "                file_extension = os.path.splitext(file_name)[1]\n",
    "                extensions.append(file_extension)\n",
    "        \n",
    "        sub_data.append(\", \".join(file_types))\n",
    "        sub_data.append(\", \".join(extensions))\n",
    "        data.append(sub_data)\n",
    "        \n",
    "        sub_data.extend(fast_scandir(dirname, level + 1))\n",
    "    \n",
    "    return data\n",
    "\n",
    "# Get the directory structure and file information\n",
    "all_data = fast_scandir('untitled folder')\n",
    "\n",
    "# Create a DataFrame from the collected data\n",
    "df = pd.DataFrame(all_data)\n",
    "\n",
    "# Export the DataFrame to an Excel file\n",
    "# df.to_excel('directory_structure.xlsx', header=False, index=False)\n"
   ]
  },
  {
   "cell_type": "code",
   "execution_count": 17,
   "metadata": {},
   "outputs": [
    {
     "data": {
      "text/html": [
       "<div>\n",
       "<style scoped>\n",
       "    .dataframe tbody tr th:only-of-type {\n",
       "        vertical-align: middle;\n",
       "    }\n",
       "\n",
       "    .dataframe tbody tr th {\n",
       "        vertical-align: top;\n",
       "    }\n",
       "\n",
       "    .dataframe thead th {\n",
       "        text-align: right;\n",
       "    }\n",
       "</style>\n",
       "<table border=\"1\" class=\"dataframe\">\n",
       "  <thead>\n",
       "    <tr style=\"text-align: right;\">\n",
       "      <th></th>\n",
       "      <th>0</th>\n",
       "      <th>1</th>\n",
       "      <th>2</th>\n",
       "      <th>3</th>\n",
       "    </tr>\n",
       "  </thead>\n",
       "  <tbody>\n",
       "    <tr>\n",
       "      <th>0</th>\n",
       "      <td>untitled folder</td>\n",
       "      <td></td>\n",
       "      <td></td>\n",
       "      <td>[None, untitled folder, , , [None, None, untit...</td>\n",
       "    </tr>\n",
       "  </tbody>\n",
       "</table>\n",
       "</div>"
      ],
      "text/plain": [
       "                 0 1 2                                                  3\n",
       "0  untitled folder      [None, untitled folder, , , [None, None, untit..."
      ]
     },
     "execution_count": 17,
     "metadata": {},
     "output_type": "execute_result"
    }
   ],
   "source": [
    "df"
   ]
  },
  {
   "cell_type": "code",
   "execution_count": 19,
   "metadata": {},
   "outputs": [
    {
     "name": "stdout",
     "output_type": "stream",
     "text": [
      "Directory structure saved to directory_structure.xlsx\n"
     ]
    }
   ],
   "source": [
    "import os\n",
    "import pandas as pd\n",
    "\n",
    "def fast_scandir(dirname):\n",
    "    subfolders = [f.path for f in os.scandir(dirname) if f.is_dir()]\n",
    "    for subfolder in list(subfolders):\n",
    "        subfolders.extend(fast_scandir(subfolder))\n",
    "    return subfolders\n",
    "\n",
    "def get_directory_structure(root_dir):\n",
    "    all_sub = fast_scandir(root_dir)\n",
    "    data = []\n",
    "    \n",
    "    for sub_dir in all_sub:\n",
    "        # Get the relative path from the root directory\n",
    "        relative_path = os.path.relpath(sub_dir, root_dir)\n",
    "        parts = relative_path.split(os.path.sep)\n",
    "        \n",
    "        if os.path.isdir(sub_dir):\n",
    "            data.append(parts + [''])\n",
    "        else:\n",
    "            file_name = os.path.basename(sub_dir)\n",
    "            file_extension = os.path.splitext(file_name)[1]\n",
    "            data.append(parts + [file_name, file_extension])\n",
    "    \n",
    "    return data\n",
    "\n",
    "# Specify the root directory\n",
    "root_directory = 'untitled folder'\n",
    "\n",
    "# Get the directory structure\n",
    "directory_structure = get_directory_structure(root_directory)\n",
    "\n",
    "# Create a DataFrame\n",
    "df = pd.DataFrame(directory_structure)\n",
    "\n",
    "# Save the DataFrame to an Excel file\n",
    "excel_file = 'directory_structure.xlsx'\n",
    "# df.to_excel(excel_file, index=False, header=None)\n",
    "print(f\"Directory structure saved to {excel_file}\")\n"
   ]
  },
  {
   "cell_type": "code",
   "execution_count": 21,
   "metadata": {},
   "outputs": [
    {
     "data": {
      "text/html": [
       "<div>\n",
       "<style scoped>\n",
       "    .dataframe tbody tr th:only-of-type {\n",
       "        vertical-align: middle;\n",
       "    }\n",
       "\n",
       "    .dataframe tbody tr th {\n",
       "        vertical-align: top;\n",
       "    }\n",
       "\n",
       "    .dataframe thead th {\n",
       "        text-align: right;\n",
       "    }\n",
       "</style>\n",
       "<table border=\"1\" class=\"dataframe\">\n",
       "  <thead>\n",
       "    <tr style=\"text-align: right;\">\n",
       "      <th></th>\n",
       "      <th>0</th>\n",
       "      <th>1</th>\n",
       "      <th>2</th>\n",
       "      <th>3</th>\n",
       "      <th>4</th>\n",
       "      <th>5</th>\n",
       "    </tr>\n",
       "  </thead>\n",
       "  <tbody>\n",
       "    <tr>\n",
       "      <th>0</th>\n",
       "      <td>untitled folder</td>\n",
       "      <td></td>\n",
       "      <td>None</td>\n",
       "      <td>None</td>\n",
       "      <td>None</td>\n",
       "      <td>None</td>\n",
       "    </tr>\n",
       "    <tr>\n",
       "      <th>1</th>\n",
       "      <td>untitled folder</td>\n",
       "      <td>untitled folder</td>\n",
       "      <td></td>\n",
       "      <td>None</td>\n",
       "      <td>None</td>\n",
       "      <td>None</td>\n",
       "    </tr>\n",
       "    <tr>\n",
       "      <th>2</th>\n",
       "      <td>untitled folder</td>\n",
       "      <td>untitled folder</td>\n",
       "      <td>untitled folder</td>\n",
       "      <td></td>\n",
       "      <td>None</td>\n",
       "      <td>None</td>\n",
       "    </tr>\n",
       "    <tr>\n",
       "      <th>3</th>\n",
       "      <td>untitled folder</td>\n",
       "      <td>untitled folder</td>\n",
       "      <td>untitled folder</td>\n",
       "      <td>untitled folder</td>\n",
       "      <td></td>\n",
       "      <td>None</td>\n",
       "    </tr>\n",
       "    <tr>\n",
       "      <th>4</th>\n",
       "      <td>untitled folder</td>\n",
       "      <td>untitled folder</td>\n",
       "      <td>untitled folder</td>\n",
       "      <td>untitled folder</td>\n",
       "      <td>untitled folder</td>\n",
       "      <td></td>\n",
       "    </tr>\n",
       "  </tbody>\n",
       "</table>\n",
       "</div>"
      ],
      "text/plain": [
       "                 0                1                2                3  \\\n",
       "0  untitled folder                              None             None   \n",
       "1  untitled folder  untitled folder                              None   \n",
       "2  untitled folder  untitled folder  untitled folder                    \n",
       "3  untitled folder  untitled folder  untitled folder  untitled folder   \n",
       "4  untitled folder  untitled folder  untitled folder  untitled folder   \n",
       "\n",
       "                 4     5  \n",
       "0             None  None  \n",
       "1             None  None  \n",
       "2             None  None  \n",
       "3                   None  \n",
       "4  untitled folder        "
      ]
     },
     "execution_count": 21,
     "metadata": {},
     "output_type": "execute_result"
    }
   ],
   "source": [
    "df"
   ]
  },
  {
   "cell_type": "code",
   "execution_count": 50,
   "metadata": {},
   "outputs": [
    {
     "data": {
      "text/html": [
       "<div>\n",
       "<style scoped>\n",
       "    .dataframe tbody tr th:only-of-type {\n",
       "        vertical-align: middle;\n",
       "    }\n",
       "\n",
       "    .dataframe tbody tr th {\n",
       "        vertical-align: top;\n",
       "    }\n",
       "\n",
       "    .dataframe thead th {\n",
       "        text-align: right;\n",
       "    }\n",
       "</style>\n",
       "<table border=\"1\" class=\"dataframe\">\n",
       "  <thead>\n",
       "    <tr style=\"text-align: right;\">\n",
       "      <th></th>\n",
       "      <th>0</th>\n",
       "      <th>1</th>\n",
       "      <th>2</th>\n",
       "      <th>3</th>\n",
       "      <th>4</th>\n",
       "      <th>5</th>\n",
       "    </tr>\n",
       "  </thead>\n",
       "  <tbody>\n",
       "    <tr>\n",
       "      <th>0</th>\n",
       "      <td>untitled folder</td>\n",
       "      <td></td>\n",
       "      <td>None</td>\n",
       "      <td>None</td>\n",
       "      <td>None</td>\n",
       "      <td>None</td>\n",
       "    </tr>\n",
       "    <tr>\n",
       "      <th>1</th>\n",
       "      <td>untitled folder</td>\n",
       "      <td>untitled folder</td>\n",
       "      <td></td>\n",
       "      <td>None</td>\n",
       "      <td>None</td>\n",
       "      <td>None</td>\n",
       "    </tr>\n",
       "    <tr>\n",
       "      <th>2</th>\n",
       "      <td>untitled folder</td>\n",
       "      <td>untitled folder 2</td>\n",
       "      <td></td>\n",
       "      <td>None</td>\n",
       "      <td>None</td>\n",
       "      <td>None</td>\n",
       "    </tr>\n",
       "    <tr>\n",
       "      <th>3</th>\n",
       "      <td>untitled folder</td>\n",
       "      <td>untitled folder</td>\n",
       "      <td>untitled folder</td>\n",
       "      <td></td>\n",
       "      <td>None</td>\n",
       "      <td>None</td>\n",
       "    </tr>\n",
       "    <tr>\n",
       "      <th>4</th>\n",
       "      <td>untitled folder</td>\n",
       "      <td>untitled folder</td>\n",
       "      <td>untitled folder</td>\n",
       "      <td>untitled folder</td>\n",
       "      <td></td>\n",
       "      <td>None</td>\n",
       "    </tr>\n",
       "    <tr>\n",
       "      <th>5</th>\n",
       "      <td>untitled folder</td>\n",
       "      <td>untitled folder</td>\n",
       "      <td>untitled folder</td>\n",
       "      <td>untitled folder 2</td>\n",
       "      <td></td>\n",
       "      <td>None</td>\n",
       "    </tr>\n",
       "    <tr>\n",
       "      <th>6</th>\n",
       "      <td>untitled folder</td>\n",
       "      <td>untitled folder</td>\n",
       "      <td>untitled folder</td>\n",
       "      <td>untitled folder</td>\n",
       "      <td>untitled folder</td>\n",
       "      <td></td>\n",
       "    </tr>\n",
       "  </tbody>\n",
       "</table>\n",
       "</div>"
      ],
      "text/plain": [
       "                 0                  1                2                  3  \\\n",
       "0  untitled folder                                None               None   \n",
       "1  untitled folder    untitled folder                                None   \n",
       "2  untitled folder  untitled folder 2                                None   \n",
       "3  untitled folder    untitled folder  untitled folder                      \n",
       "4  untitled folder    untitled folder  untitled folder    untitled folder   \n",
       "5  untitled folder    untitled folder  untitled folder  untitled folder 2   \n",
       "6  untitled folder    untitled folder  untitled folder    untitled folder   \n",
       "\n",
       "                 4     5  \n",
       "0             None  None  \n",
       "1             None  None  \n",
       "2             None  None  \n",
       "3             None  None  \n",
       "4                   None  \n",
       "5                   None  \n",
       "6  untitled folder        "
      ]
     },
     "execution_count": 50,
     "metadata": {},
     "output_type": "execute_result"
    }
   ],
   "source": [
    "import os\n",
    "import pandas as pd\n",
    "\n",
    "def fast_scandir(dirname):\n",
    "    subfolders = [f.path for f in os.scandir(dirname) if f.is_dir()]\n",
    "    for subfolder in list(subfolders):\n",
    "        subfolders.extend(fast_scandir(subfolder))\n",
    "    return subfolders\n",
    "\n",
    "def get_directory_structure(root_dir):\n",
    "    all_sub = fast_scandir(root_dir)\n",
    "    data = []\n",
    "    \n",
    "    for sub_dir in all_sub:\n",
    "        # Get the relative path from the root directory\n",
    "        relative_path = os.path.relpath(sub_dir, root_dir)\n",
    "        parts = relative_path.split(os.path.sep)\n",
    "        \n",
    "        if os.path.isdir(sub_dir):\n",
    "            data.append(parts + [''])\n",
    "        else:\n",
    "            file_name = os.path.basename(sub_dir)\n",
    "            file_extension = os.path.splitext(file_name)[1]\n",
    "            data.append(parts + [file_name, file_extension])\n",
    "    \n",
    "    return data\n",
    "\n",
    "# Specify the root directory\n",
    "root_directory = 'untitled folder'\n",
    "\n",
    "# Get the directory structure\n",
    "directory_structure = get_directory_structure(root_directory)\n",
    "\n",
    "# Create a DataFrame\n",
    "df = pd.DataFrame(directory_structure)\n",
    "\n",
    "# Add file names to the last column\n",
    "# df.iloc[:, -1] = df.iloc[:, -2] + df.iloc[:, -1]\n",
    "\n",
    "# Save the DataFrame to an Excel file\n",
    "excel_file = 'directory_structure.xlsx'\n",
    "# df.to_excel(excel_file, index=False, header=None)\n",
    "df"
   ]
  },
  {
   "cell_type": "code",
   "execution_count": 58,
   "metadata": {},
   "outputs": [
    {
     "name": "stdout",
     "output_type": "stream",
     "text": [
      "untitled folder/\n",
      "['untitled folder', '.DS_Store']\n",
      "untitled folder/untitled folder/\n",
      "['untitled folder', '.DS_Store', 'untitled folder 2']\n",
      "untitled folder/untitled folder 2/\n"
     ]
    },
    {
     "ename": "FileNotFoundError",
     "evalue": "[Errno 2] No such file or directory: 'untitled folder/untitled folder 2/'",
     "output_type": "error",
     "traceback": [
      "\u001b[0;31m---------------------------------------------------------------------------\u001b[0m",
      "\u001b[0;31mFileNotFoundError\u001b[0m                         Traceback (most recent call last)",
      "Cell \u001b[0;32mIn[58], line 4\u001b[0m\n\u001b[1;32m      2\u001b[0m \u001b[38;5;28;01mfor\u001b[39;00m fol \u001b[38;5;129;01min\u001b[39;00m directory_structure:\n\u001b[1;32m      3\u001b[0m     \u001b[38;5;28mprint\u001b[39m(os\u001b[38;5;241m.\u001b[39mpath\u001b[38;5;241m.\u001b[39mjoin(\u001b[38;5;241m*\u001b[39mfol))\n\u001b[0;32m----> 4\u001b[0m     all_file_inside \u001b[38;5;241m=\u001b[39m \u001b[43mos\u001b[49m\u001b[38;5;241;43m.\u001b[39;49m\u001b[43mlistdir\u001b[49m\u001b[43m(\u001b[49m\u001b[43mos\u001b[49m\u001b[38;5;241;43m.\u001b[39;49m\u001b[43mpath\u001b[49m\u001b[38;5;241;43m.\u001b[39;49m\u001b[43mjoin\u001b[49m\u001b[43m(\u001b[49m\u001b[38;5;241;43m*\u001b[39;49m\u001b[43mfol\u001b[49m\u001b[43m)\u001b[49m\u001b[43m)\u001b[49m\n\u001b[1;32m      5\u001b[0m     \u001b[38;5;28mprint\u001b[39m(all_file_inside)\n\u001b[1;32m      6\u001b[0m     \u001b[38;5;28;01mif\u001b[39;00m all_file_inside:\n",
      "\u001b[0;31mFileNotFoundError\u001b[0m: [Errno 2] No such file or directory: 'untitled folder/untitled folder 2/'"
     ]
    }
   ],
   "source": [
    "b = []\n",
    "for fol in directory_structure:\n",
    "    print(os.path.join(*fol))\n",
    "    all_file_inside = os.listdir(os.path.join(*fol))\n",
    "    print(all_file_inside)\n",
    "    if all_file_inside:\n",
    "        for file_ in all_file_inside:\n",
    "            b.append(str(os.path.join(*fol)) + file_)\n",
    "\n",
    "b"
   ]
  },
  {
   "cell_type": "code",
   "execution_count": 48,
   "metadata": {},
   "outputs": [
    {
     "data": {
      "text/plain": [
       "['untitled folder',\n",
       " 'untitled folder/untitled folder',\n",
       " 'untitled folder/untitled folder/untitled folder/untitled.xlsx',\n",
       " 'untitled folder/untitled folder/untitled folder',\n",
       " 'untitled folder/untitled folder/untitled folder/untitled folder',\n",
       " 'untitled folder/untitled folder/untitled folder/untitled folder/untitled folder',\n",
       " 'untitled folder/untitled folder/untitled folder/untitled folder/untitled folder/untitled.txt',\n",
       " 'untitled folder/untitled folder/untitled folder/untitled folder/untitled folder/untitled folder/untitled.txt',\n",
       " 'untitled folder/untitled folder/untitled folder/untitled folder/untitled folder 2/untitled.docx',\n",
       " 'untitled folder/untitled folder/untitled folder 2/untitled.docx']"
      ]
     },
     "execution_count": 48,
     "metadata": {},
     "output_type": "execute_result"
    }
   ],
   "source": [
    "def fast_scandir(dirname):\n",
    "    file_paths = []  # List to store file paths\n",
    "    \n",
    "    # Iterate through the directory and its subdirectories\n",
    "    for root, dirs, files in os.walk(dirname):\n",
    "        for file in files:\n",
    "            if file != '.DS_Store':\n",
    "                file_paths.append(os.path.join(root, file))\n",
    "            else:\n",
    "                file_paths.append(os.path.join(root))\n",
    "    \n",
    "    return file_paths\n",
    "\n",
    "a = fast_scandir('untitled folder')\n",
    "a"
   ]
  },
  {
   "cell_type": "code",
   "execution_count": 49,
   "metadata": {},
   "outputs": [
    {
     "data": {
      "text/plain": [
       "[['untitled folder'],\n",
       " ['untitled folder', 'untitled folder'],\n",
       " ['untitled folder', 'untitled folder', 'untitled folder', 'untitled.xlsx'],\n",
       " ['untitled folder', 'untitled folder', 'untitled folder'],\n",
       " ['untitled folder', 'untitled folder', 'untitled folder', 'untitled folder'],\n",
       " ['untitled folder',\n",
       "  'untitled folder',\n",
       "  'untitled folder',\n",
       "  'untitled folder',\n",
       "  'untitled folder'],\n",
       " ['untitled folder',\n",
       "  'untitled folder',\n",
       "  'untitled folder',\n",
       "  'untitled folder',\n",
       "  'untitled folder',\n",
       "  'untitled.txt'],\n",
       " ['untitled folder',\n",
       "  'untitled folder',\n",
       "  'untitled folder',\n",
       "  'untitled folder',\n",
       "  'untitled folder',\n",
       "  'untitled folder',\n",
       "  'untitled.txt'],\n",
       " ['untitled folder',\n",
       "  'untitled folder',\n",
       "  'untitled folder',\n",
       "  'untitled folder',\n",
       "  'untitled folder 2',\n",
       "  'untitled.docx'],\n",
       " ['untitled folder', 'untitled folder', 'untitled folder 2', 'untitled.docx']]"
      ]
     },
     "execution_count": 49,
     "metadata": {},
     "output_type": "execute_result"
    }
   ],
   "source": [
    "b = []\n",
    "for directory in a:\n",
    "    split = directory.split('/')\n",
    "    b.append(split)\n",
    "\n",
    "b"
   ]
  },
  {
   "cell_type": "code",
   "execution_count": null,
   "metadata": {},
   "outputs": [],
   "source": []
  }
 ],
 "metadata": {
  "kernelspec": {
   "display_name": "Python 3 (ipykernel)",
   "language": "python",
   "name": "python3"
  },
  "language_info": {
   "codemirror_mode": {
    "name": "ipython",
    "version": 3
   },
   "file_extension": ".py",
   "mimetype": "text/x-python",
   "name": "python",
   "nbconvert_exporter": "python",
   "pygments_lexer": "ipython3",
   "version": "3.9.18"
  }
 },
 "nbformat": 4,
 "nbformat_minor": 4
}
